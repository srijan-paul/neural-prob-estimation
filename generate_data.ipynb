{
 "cells": [
  {
   "cell_type": "code",
   "execution_count": 127,
   "id": "13d7ff70",
   "metadata": {},
   "outputs": [],
   "source": [
    "import matplotlib.pyplot as plt\n",
    "import numpy as np\n",
    "import math\n",
    "from nn import Network\n",
    "import json"
   ]
  },
  {
   "cell_type": "code",
   "execution_count": 44,
   "id": "fcad3316",
   "metadata": {},
   "outputs": [],
   "source": [
    "def apply_linear(xs: np.ndarray) -> float:\n",
    "    return xs[0] + xs[1] + 2 * xs[2]\n",
    "\n",
    "def normal(x: float, mean=1, sd=1) -> float:\n",
    "    return (1 / (sd * np.sqrt(2 * np.pi))) * np.exp(-0.5 * (((x - mean) / sd) ** 2))"
   ]
  },
  {
   "cell_type": "code",
   "execution_count": 109,
   "id": "d5464e0b",
   "metadata": {},
   "outputs": [
    {
     "data": {
      "text/plain": [
       "[<matplotlib.lines.Line2D at 0x168dbf5e0>]"
      ]
     },
     "execution_count": 109,
     "metadata": {},
     "output_type": "execute_result"
    },
    {
     "data": {
      "image/png": "[encoded data removed]",
      "text/plain": [
       "<Figure size 432x288 with 1 Axes>"
      ]
     },
     "metadata": {
      "needs_background": "light"
     },
     "output_type": "display_data"
    }
   ],
   "source": [
    "xs = list(map(lambda x: [x / 6, x / 4 - 30], np.linspace(-800, 800, 1200)))\n",
    "affined_xs = np.array(list(map(lambda x: 3 * x[0] + 2 * x[1] + 30, xs)))\n",
    "ys = np.array(list(map(lambda x: 5000 * normal(x, 0, 220), affined_xs)))\n",
    "fig, ax = plt.subplots()\n",
    "ax.plot(affined_xs, ys)"
   ]
  },
  {
   "cell_type": "code",
   "execution_count": null,
   "id": "b1c2e2a4",
   "metadata": {},
   "outputs": [],
   "source": []
  },
  {
   "cell_type": "code",
   "execution_count": 138,
   "id": "dad9a5cb",
   "metadata": {},
   "outputs": [],
   "source": [
    "def test_train_split(xs: np.ndarray, ys: np.ndarray, train_frac = 0.75):\n",
    "    assert len(xs) == len(ys)\n",
    "    np.random.shuffle(xs)\n",
    "    np.random.shuffle(ys)\n",
    "    xs_train_end_idx = int(train_frac * len(xs))\n",
    "    xs_train = xs[: xs_train_end_idx]\n",
    "    ys_train = ys[: xs_train_end_idx]\n",
    "    \n",
    "    xs_test = xs[xs_train_end_idx: ]\n",
    "    ys_test = ys[xs_train_end_idx: ]\n",
    "    \n",
    "    return {\n",
    "        'train': { 'xs': xs_train, 'ys': ys_train },\n",
    "        'test': { 'xs': xs_test, 'ys': ys_test },\n",
    "    }\n",
    "\n",
    "data = test_train_split(xs, ys)\n",
    "\n",
    "def data_to_json(data):\n",
    "    json_data = { \n",
    "        'train': { 'xs': None, 'ys': None },\n",
    "        'test': { 'xs': None, 'ys': None }        \n",
    "    }\n",
    "    json_data['train']['xs'] = list(map(list, data['train']['xs']))\n",
    "    json_data['test']['xs'] = list(map(list, data['test']['xs']))\n",
    "    \n",
    "    json_data['train']['ys'] = list(data['train']['ys'])\n",
    "    json_data['test']['ys'] = list(data['test']['ys'])\n",
    "    return json.dumps(json_data)\n",
    "\n",
    "\n",
    "json_data = data_to_json(data)\n",
    "with open(\"dataset.json\", \"w\") as data_file:\n",
    "    data_file.write(json_data)"
   ]
  },
  {
   "cell_type": "code",
   "execution_count": null,
   "id": "c095f9bb",
   "metadata": {},
   "outputs": [],
   "source": []
  }
 ],
 "metadata": {
  "kernelspec": {
   "display_name": "Python 3 (ipykernel)",
   "language": "python",
   "name": "python3"
  },
  "language_info": {
   "codemirror_mode": {
    "name": "ipython",
    "version": 3
   },
   "file_extension": ".py",
   "mimetype": "text/x-python",
   "name": "python",
   "nbconvert_exporter": "python",
   "pygments_lexer": "ipython3",
   "version": "3.9.12"
  },
  "vscode": {
   "interpreter": {
    "hash": "f3d9e6d6d5d767434be2ca99cf62dcd3f26e1fb724bdb6f18c6501f98495d0a0"
   }
  }
 },
 "nbformat": 4,
 "nbformat_minor": 5
}
